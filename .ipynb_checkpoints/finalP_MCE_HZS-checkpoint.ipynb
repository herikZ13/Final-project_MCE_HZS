{
 "cells": [
  {
   "cell_type": "markdown",
   "id": "8cfb0077-f10f-4755-a0c5-fa905857fd39",
   "metadata": {},
   "source": [
    "# Final Project - Dashboard"
   ]
  },
  {
   "cell_type": "code",
   "execution_count": null,
   "id": "7dc9a2eb-97fb-4325-932a-a97a32ab08e3",
   "metadata": {},
   "outputs": [],
   "source": []
  }
 ],
 "metadata": {
  "kernelspec": {
   "display_name": "Python 3 (ipykernel)",
   "language": "python",
   "name": "python3"
  },
  "language_info": {
   "codemirror_mode": {
    "name": "ipython",
    "version": 3
   },
   "file_extension": ".py",
   "mimetype": "text/x-python",
   "name": "python",
   "nbconvert_exporter": "python",
   "pygments_lexer": "ipython3",
   "version": "3.12.5"
  }
 },
 "nbformat": 4,
 "nbformat_minor": 5
}
