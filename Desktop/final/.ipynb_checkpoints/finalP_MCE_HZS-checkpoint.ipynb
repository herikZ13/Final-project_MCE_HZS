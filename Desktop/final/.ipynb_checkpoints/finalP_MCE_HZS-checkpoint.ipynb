{
 "cells": [
  {
   "cell_type": "markdown",
   "id": "8cfb0077-f10f-4755-a0c5-fa905857fd39",
   "metadata": {},
   "source": [
    "# Final Project - Dashboard"
   ]
  },
  {
   "cell_type": "markdown",
   "id": "1a55569a",
   "metadata": {},
   "source": [
    "Prueba"
   ]
  },
  {
   "cell_type": "code",
   "execution_count": null,
   "id": "d0051c77",
   "metadata": {},
   "outputs": [],
   "source": []
  }
 ],
 "metadata": {
  "kernelspec": {
   "display_name": "Python 3 (ipykernel)",
   "language": "python",
   "name": "python3"
  },
  "language_info": {
   "codemirror_mode": {
    "name": "ipython",
    "version": 3
   },
   "file_extension": ".py",
   "mimetype": "text/x-python",
   "name": "python",
   "nbconvert_exporter": "python",
   "pygments_lexer": "ipython3",
   "version": "3.10.9"
  }
 },
 "nbformat": 4,
 "nbformat_minor": 5
}
